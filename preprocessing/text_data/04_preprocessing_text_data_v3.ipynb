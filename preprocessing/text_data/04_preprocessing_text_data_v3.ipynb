{
 "cells": [
  {
   "cell_type": "markdown",
   "metadata": {},
   "source": [
    "# Pre-processing Text Data\n",
    "\n",
    "The purpose of this notebook is to demonstrate how to pre-processing text data for next-step feature engineering and training a machine learning model via Amazon SageMaker. In this notebook we will focus on pre-processing our text data, and we will use the text data we ingested in a [sequel notebook](data_ingestion/012_Ingest_text_data_v2.ipynb>) to showcase text data pre-processing methodologies. We are going to discuss many possible methods to clean and enrich your text, but you do not need to run through every single step below. Usually, a rule of thumb is: if you are dealing with very noisy text, like social media text data, or nurse notes, then medium to heavy pre-processing effort might be needed, and if it's domain-specific corpus, text enrichment is helpful as well; if you are dealing with long and well-written documents such as news articles and papers, very light pre-processing is needed; you can add some enrichment to the data to better capture the sentence to sentence relationship and overall meaning. \n"
   ]
  },
  {
   "cell_type": "markdown",
   "metadata": {},
   "source": [
    "## Overview\n",
    "### Input Format  \n",
    "Labeled text data sometimes are in a structured data format. You might come across this when working on reviews for sentiment analysis, news headlines for topic modeling, or documents for text classification. One column of the dataset could be dedicated for the label, one column for the text, and sometimes other columns as attributes. You can process this dataset format similar to how you would process tabular data and ingest them in the [last section](preprocessing/tabular_data/preprocessing_tabular_data.ipynb). Sometimes text data, especially raw text data, comes as unstructured data and is often in .json or .txt format. To work with this type of formatting, you will need to first extract useful information from the original dataset.  \n",
    "\n",
    "### Use Cases\n",
    "Text data contains rich information and it's everywhere. Applicable use cases include Voice of Customer (VOC), fraud detection, warranty analysis, chatbot and customer service routing, audience analysis, and much more. \n",
    "\n",
    "### What's the difference between pre-processing and feature engineering for text data?\n",
    "In the pre-processing stage, you want to clean and transfer the text data from human language to standard, machine-analyzable format for further processing. For feature engineering, you extract predictive factors (features) from the text. For example, for a matching equivalent question pairs task, the features you can extract include words overlap, cosine similarity, inter-word relationships, parse tree structure similarity, TF-IDF (frequency-inverse document frequency) scores, etc.; for some language model like topic modeling, words embeddings themselves can also be features.\n",
    "\n",
    "### When is my text data ready for feature engineering?\n",
    "When the data is ready to be vectorized and fit your specific use case."
   ]
  },
  {
   "cell_type": "markdown",
   "metadata": {},
   "source": [
    "## Set Up Notebook\n",
    "There are several python packages designed specifically for natural language processing (NLP) tasks. In this notebook, you will use the following packages:\n",
    "\n",
    "* [`nltk`(natrual language toolkit)](https://www.nltk.org/), a leading platform includes multiple text processing libraries, which covers almost all aspects of pre-processing we will discuss in this section: tokenization, stemming, lemmatization, parsing, chunking, POS tagging, stop words, etc.\n",
    "\n",
    "* [`SpaCy`](https://spacy.io/), offers most functionality provided by `nltk`, and provides pre-trained word vectors and models. It is scalable and designed for production usage.\n",
    "\n",
    "* [`Gensim` (Generate Similar)](https://radimrehurek.com/gensim/about.html), \"designed specifically for topic modeling, document indexing, and similarity retrieval with large corpora\". \n",
    "\n",
    "* [`TextBlob`](), offers POS tagging, noun phrases extraction, sentiment analysis, classification, parsing, n-grams, word inflation, all offered as an API to perform more advanced NLP tasks. It is an easy-to-use wrapper for libraries like `nltk` and `Pattern`. We will use this package for our enrichment tasks."
   ]
  },
  {
   "cell_type": "code",
   "execution_count": 1,
   "metadata": {},
   "outputs": [
    {
     "name": "stdout",
     "output_type": "stream",
     "text": [
      "\u001b[33mWARNING: You are using pip version 20.0.2; however, version 20.2.3 is available.\n",
      "You should consider upgrading via the '/home/ec2-user/anaconda3/envs/python3/bin/python -m pip install --upgrade pip' command.\u001b[0m\n"
     ]
    }
   ],
   "source": [
    "import sys\n",
    "!{sys.executable} -m pip install -qU spacy gensim textblob"
   ]
  },
  {
   "cell_type": "code",
   "execution_count": 2,
   "metadata": {},
   "outputs": [],
   "source": [
    "import nltk\n",
    "import spacy\n",
    "import gensim\n",
    "from textblob import TextBlob\n",
    "import re\n",
    "import string"
   ]
  },
  {
   "cell_type": "code",
   "execution_count": 3,
   "metadata": {},
   "outputs": [],
   "source": [
    "import io\n",
    "import boto3\n",
    "import sagemaker\n",
    "from sagemaker import get_execution_role\n",
    "import json\n",
    "\n",
    "# Get region \n",
    "session = boto3.session.Session()\n",
    "region_name = session.region_name\n",
    "\n",
    "# Get SageMaker session & default S3 bucket\n",
    "sagemaker_session = sagemaker.Session()\n",
    "bucket = sagemaker_session.default_bucket() # replace with your own bucket if you have one \n",
    " # This is the role that SageMaker would use to leverage AWS resources (S3, CloudWatch) on your behalf\n",
    "role = get_execution_role()\n",
    "prefix = 'text_sentiment140/sentiment140'\n",
    "filename = 'training.1600000.processed.noemoticon.csv'"
   ]
  },
  {
   "cell_type": "markdown",
   "metadata": {},
   "source": [
    "## Read in Data\n",
    "We will read the data in as .csv format since the text is embedded in a structured table.  \n",
    "\n",
    "<b>Note:</b> A frequent error when reading in text data is the encoding error. You can try different encoding options with pandas read_csv when \"encoding as UTF-8\" does not work; see [python encoding documentation](https://docs.python.org/3/library/codecs.html#standard-encodings) for more encodings you may encounter."
   ]
  },
  {
   "cell_type": "markdown",
   "metadata": {},
   "source": [
    "### Text Data Sets: Twitter -- sentiment140\n",
    " **Sentiment140** The sentiment140 dataset contains 1.6M tweets that were extracted using the [Twitter API](https://developer.twitter.com/en/products/twitter-api) . The tweets have been annotated with sentiment (0 = negative, 4 = positive) and topics (hashtags used to retrieve tweets). The dataset contains the following columns:\n",
    "* `target`: the polarity of the tweet (0 = negative, 4 = positive)\n",
    "* `ids`: The id of the tweet ( 2087)\n",
    "* `date`: the date of the tweet (Sat May 16 23:58:44 UTC 2009)\n",
    "* `flag`: The query (lyx). If there is no query, then this value is NO_QUERY.\n",
    "* `user`: the user that tweeted (robotickilldozr)\n",
    "* `text`: the text of the tweet (Lyx is cool)\n"
   ]
  },
  {
   "cell_type": "code",
   "execution_count": 4,
   "metadata": {},
   "outputs": [],
   "source": [
    "import pandas as pd\n",
    "data_s3_location = \"s3://{}/{}/{}\".format(bucket, prefix, filename) # S3 URL\n",
    "# we will showcase with a smaller subset of data for demonstration purpose\n",
    "text_data = pd.read_csv(data_s3_location, header = None,\n",
    "                        encoding = \"ISO-8859-1\", low_memory=False,\n",
    "                       nrows = 10000)\n",
    "text_data.columns = ['target', 'tw_id', 'date', 'flag', 'user', 'text']"
   ]
  },
  {
   "cell_type": "markdown",
   "metadata": {},
   "source": [
    "## Examine Your Text Data \n",
    "Here you will explore common methods and steps for text pre-processing. Text pre-processing is highly specific to each individual corpus and different tasks, so it is important to examine your text data first and decide what steps are necessary. \n",
    "\n",
    "First, look at your text data. Seems like there are whitespaces to trim, URLs, smiley faces, numbers, abbreviations, spelling, names, etc. Tweets are less than 140 characters so there is less need for document segmentation and sentence dependencies."
   ]
  },
  {
   "cell_type": "code",
   "execution_count": 5,
   "metadata": {},
   "outputs": [
    {
     "data": {
      "text/plain": [
       "0    @switchfoot http://twitpic.com/2y1zl - Awww, that's a bummer.  You shoulda got David Carr of Third Day to do it. ;D\n",
       "1        is upset that he can't update his Facebook by texting it... and might cry as a result  School today also. Blah!\n",
       "2                              @Kenichan I dived many times for the ball. Managed to save 50%  The rest go out of bounds\n",
       "3                                                                        my whole body feels itchy and like its on fire \n",
       "4        @nationwideclass no, it's not behaving at all. i'm mad. why am i here? because I can't see you all over there. \n",
       "Name: text, dtype: object"
      ]
     },
     "execution_count": 5,
     "metadata": {},
     "output_type": "execute_result"
    }
   ],
   "source": [
    "pd.set_option('display.max_colwidth', None) #show full content in a column\n",
    "text_data['text'][:5]"
   ]
  },
  {
   "cell_type": "markdown",
   "metadata": {},
   "source": [
    "## Pre-Processing\n",
    "\n",
    "### Step 1: Noise Removal\n",
    "\n",
    "Start by removing noise from the text data. Removing noise is very task-specific, so you will usually pick and choose from the following to process your text data based on your needs:\n",
    "* Remove formatting (HTML, markup, metadata) -- e.g. emails, web-scrapped data\n",
    "* Extract text data from full dataset -- e.g. reviews, comments, labeled data from a nested JSON file or from structured data\n",
    "* Remove special characters \n",
    "* Remove emojis or convert emoji to words -- e.g. reviews, tweets, Instagram and Facebook comments, SMS text with sales\n",
    "* Remove URLs -- reviews, web content, emails\n",
    "* Convert accented characters to ASCII characters -- e.g. tweets, contents that may contain foreign language\n",
    "\n",
    "Note that pre-processing is an iterative process, so it is common to revisit any of these steps after you have cleaned and normalized your data.\n",
    "\n",
    "Here you will look at tweets and decide how you are going to process URL, emojis and emoticons.\n",
    "\n",
    "Working with text will often means dealing with regular expression. To freshen up on your regex or if you are new, [Pythex](https://pythex.org/) is a good helper page for you to find cheatsheet and test your functions."
   ]
  },
  {
   "cell_type": "markdown",
   "metadata": {},
   "source": [
    "#### Noise Removal - Remove URLs"
   ]
  },
  {
   "cell_type": "code",
   "execution_count": 6,
   "metadata": {},
   "outputs": [],
   "source": [
    "def remove_urls(text):\n",
    "    url = re.compile(r'https?://\\S+|www\\.\\S+')\n",
    "    return url.sub(r'', text)"
   ]
  },
  {
   "cell_type": "markdown",
   "metadata": {},
   "source": [
    "Let's check if our code works with one example:"
   ]
  },
  {
   "cell_type": "code",
   "execution_count": 7,
   "metadata": {},
   "outputs": [
    {
     "name": "stdout",
     "output_type": "stream",
     "text": [
      "@switchfoot http://twitpic.com/2y1zl - Awww, that's a bummer.  You shoulda got David Carr of Third Day to do it. ;D\n",
      "Removed URL:@switchfoot  - Awww, that's a bummer.  You shoulda got David Carr of Third Day to do it. ;D\n"
     ]
    }
   ],
   "source": [
    "print (text_data['text'][0])\n",
    "print ('Removed URL:' + remove_urls(text_data['text'][0]))"
   ]
  },
  {
   "cell_type": "markdown",
   "metadata": {},
   "source": [
    "#### Noise Removal - Remove emoticons, or convert emoticons to words"
   ]
  },
  {
   "cell_type": "code",
   "execution_count": 8,
   "metadata": {},
   "outputs": [
    {
     "name": "stdout",
     "output_type": "stream",
     "text": [
      "\u001b[33mWARNING: You are using pip version 20.0.2; however, version 20.2.3 is available.\n",
      "You should consider upgrading via the '/home/ec2-user/anaconda3/envs/python3/bin/python -m pip install --upgrade pip' command.\u001b[0m\n"
     ]
    }
   ],
   "source": [
    "import sys\n",
    "!{sys.executable} -m pip install -qU emot"
   ]
  },
  {
   "cell_type": "code",
   "execution_count": 9,
   "metadata": {},
   "outputs": [],
   "source": [
    "from emot.emo_unicode import UNICODE_EMO, EMOTICONS"
   ]
  },
  {
   "cell_type": "code",
   "execution_count": 10,
   "metadata": {},
   "outputs": [],
   "source": [
    "def remove_emoticons(text):\n",
    "    \"\"\"\n",
    "    This function takes strings containing emoticons and returns strings with emoticons removed.\n",
    "    Input(string): one tweet, contains emoticons\n",
    "    Output(string): one tweet, emoticons removed, everything else unchanged\n",
    "    \"\"\"\n",
    "    emoticon = re.compile(u'(' + u'|'.join(k for k in EMOTICONS) + u')')\n",
    "    return emoticon.sub(r'', text)"
   ]
  },
  {
   "cell_type": "code",
   "execution_count": 11,
   "metadata": {},
   "outputs": [],
   "source": [
    "def convert_emoticons(text):\n",
    "    \"\"\"\n",
    "    This function takes strings containing emoticons and convert the emoticons to words that describe the emoticon.\n",
    "    Input(string): one tweet, contains emoticons\n",
    "    Output(string): one tweet, emoticons replaced with words describing the emoticon\n",
    "    \"\"\"\n",
    "    for emot in EMOTICONS:\n",
    "        text = re.sub(u'('+emot+')', \" \".join(EMOTICONS[emot].replace(\",\",\"\").split()), text) \n",
    "    return text"
   ]
  },
  {
   "cell_type": "markdown",
   "metadata": {},
   "source": [
    "Let's check the results with one example and decide if we should keep the emoticon:"
   ]
  },
  {
   "cell_type": "code",
   "execution_count": 12,
   "metadata": {},
   "outputs": [
    {
     "name": "stdout",
     "output_type": "stream",
     "text": [
      "original text: @switchfoot http/twitpic.com/2y1zl - Awww, that's a bummer.  You shoulda got David Carr of Third Day to do it. \n",
      "removed emoticons: @switchfoot httpSkeptical annoyed undecided uneasy or hesitant/twitpic.com/2y1zl - Awww, that's a bummer.  You shoulda got David Carr of Third Day to do it. Wink or smirk\n"
     ]
    }
   ],
   "source": [
    "print ('original text: ' +remove_emoticons(text_data['text'][0]))\n",
    "print ('removed emoticons: ' + convert_emoticons(text_data['text'][0]))"
   ]
  },
  {
   "cell_type": "markdown",
   "metadata": {},
   "source": [
    "Assuming our task is sentiment analysis, then converting emoticons to words will be helpful. \n",
    "We will apply our remove_URL and convert_emoticons functions to the full dataset:"
   ]
  },
  {
   "cell_type": "code",
   "execution_count": 13,
   "metadata": {},
   "outputs": [],
   "source": [
    "text_data['cleaned_text'] = text_data['text'].apply(remove_urls).apply(convert_emoticons)"
   ]
  },
  {
   "cell_type": "code",
   "execution_count": 14,
   "metadata": {},
   "outputs": [
    {
     "data": {
      "text/html": [
       "<div>\n",
       "<style scoped>\n",
       "    .dataframe tbody tr th:only-of-type {\n",
       "        vertical-align: middle;\n",
       "    }\n",
       "\n",
       "    .dataframe tbody tr th {\n",
       "        vertical-align: top;\n",
       "    }\n",
       "\n",
       "    .dataframe thead th {\n",
       "        text-align: right;\n",
       "    }\n",
       "</style>\n",
       "<table border=\"1\" class=\"dataframe\">\n",
       "  <thead>\n",
       "    <tr style=\"text-align: right;\">\n",
       "      <th></th>\n",
       "      <th>text</th>\n",
       "      <th>cleaned_text</th>\n",
       "    </tr>\n",
       "  </thead>\n",
       "  <tbody>\n",
       "    <tr>\n",
       "      <th>0</th>\n",
       "      <td>@switchfoot http://twitpic.com/2y1zl - Awww, that's a bummer.  You shoulda got David Carr of Third Day to do it. ;D</td>\n",
       "      <td>@switchfoot  - Awww, that's a bummer.  You shoulda got David Carr of Third Day to do it. Wink or smirk</td>\n",
       "    </tr>\n",
       "  </tbody>\n",
       "</table>\n",
       "</div>"
      ],
      "text/plain": [
       "                                                                                                                  text  \\\n",
       "0  @switchfoot http://twitpic.com/2y1zl - Awww, that's a bummer.  You shoulda got David Carr of Third Day to do it. ;D   \n",
       "\n",
       "                                                                                             cleaned_text  \n",
       "0  @switchfoot  - Awww, that's a bummer.  You shoulda got David Carr of Third Day to do it. Wink or smirk  "
      ]
     },
     "execution_count": 14,
     "metadata": {},
     "output_type": "execute_result"
    }
   ],
   "source": [
    "text_data[['text', 'cleaned_text']][:1]"
   ]
  },
  {
   "cell_type": "markdown",
   "metadata": {},
   "source": [
    "## Step 2: Normalization\n",
    "\n",
    "In the next step, we will further process the text so that all text/words will be put on the same level playing field: all the words should be in the same case, numbers should be also treated as strings, abbreviations and chat words should be recognizable and replaced with the full words, etc. This is important because we do not want two elements in our word list (dictionary) with the same meaning are taken as two non-related different words by machine, and when we eventually convert all words to numbers (vectors), these words will be noises to our model, such as \"3\" and \"three\", \"Our\" and \"our\", or \"urs\" and \"yours\". This process often includes the following steps: \n",
    "### Step 2.1 General Normalization\n",
    "* Convert all text to the same case\n",
    "* Remove punctuation\n",
    "* Convert numbers to word or remove numbers depending on your task \n",
    "* Remove white spaces\n",
    "* Convert abbreviations/slangs/chat words to word\n",
    "* Remove stop words (task specific and general English words); you can also create your own list of stop words\n",
    "* Remove rare words\n",
    "* Spelling correction\n",
    "\n",
    "**Note:** some normalization processes are better to perform at sentence and document level, and some processes are word-level and should happen after tokenization and segmentation, which we will cover right after normalization.\n",
    "\n",
    "Here you will convert the text to lower case, remove punctuation, remove numbers, remove white spaces, and complete other word-level processing steps after tokenizing the sentences."
   ]
  },
  {
   "cell_type": "markdown",
   "metadata": {},
   "source": [
    "#### Normalization - Convert all text to lower case\n",
    "Usually, this is a must for all language pre-processing. Since \"Word\" and \"word\" will essentially be considered two different elements in word representation, and we want words that have the same meaning to be represented the same in numbers (vectors), we want to convert all text into the same case. "
   ]
  },
  {
   "cell_type": "code",
   "execution_count": 15,
   "metadata": {},
   "outputs": [
    {
     "data": {
      "text/html": [
       "<div>\n",
       "<style scoped>\n",
       "    .dataframe tbody tr th:only-of-type {\n",
       "        vertical-align: middle;\n",
       "    }\n",
       "\n",
       "    .dataframe tbody tr th {\n",
       "        vertical-align: top;\n",
       "    }\n",
       "\n",
       "    .dataframe thead th {\n",
       "        text-align: right;\n",
       "    }\n",
       "</style>\n",
       "<table border=\"1\" class=\"dataframe\">\n",
       "  <thead>\n",
       "    <tr style=\"text-align: right;\">\n",
       "      <th></th>\n",
       "      <th>cleaned_text</th>\n",
       "      <th>text_lower</th>\n",
       "    </tr>\n",
       "  </thead>\n",
       "  <tbody>\n",
       "    <tr>\n",
       "      <th>0</th>\n",
       "      <td>@switchfoot  - Awww, that's a bummer.  You shoulda got David Carr of Third Day to do it. Wink or smirk</td>\n",
       "      <td>@switchfoot  - awww, that's a bummer.  you shoulda got david carr of third day to do it. wink or smirk</td>\n",
       "    </tr>\n",
       "  </tbody>\n",
       "</table>\n",
       "</div>"
      ],
      "text/plain": [
       "                                                                                             cleaned_text  \\\n",
       "0  @switchfoot  - Awww, that's a bummer.  You shoulda got David Carr of Third Day to do it. Wink or smirk   \n",
       "\n",
       "                                                                                               text_lower  \n",
       "0  @switchfoot  - awww, that's a bummer.  you shoulda got david carr of third day to do it. wink or smirk  "
      ]
     },
     "execution_count": 15,
     "metadata": {},
     "output_type": "execute_result"
    }
   ],
   "source": [
    "text_data['text_lower'] = text_data['cleaned_text'].str.lower()\n",
    "text_data[['cleaned_text', 'text_lower']][:1]"
   ]
  },
  {
   "cell_type": "markdown",
   "metadata": {},
   "source": [
    "#### Normalization -  Remove numbers\n",
    "Depending on your use cases, you can either remove numbers or convert numbers into strings. If numbers are not important in your task (e.g. sentiment analysis) you can remove those, and in some cases, numbers are useful (e.g. date), and you can tag these numbers differently. In most pre-trained embeddings, numbers are treated as strings.\n",
    "\n",
    "In this example, we are using Twitter data (tweets) and typically, numbers are not that important for understanding the meaning or content of a tweet. Therefore, we will remove the numbers."
   ]
  },
  {
   "cell_type": "code",
   "execution_count": 16,
   "metadata": {},
   "outputs": [],
   "source": [
    "def remove_numbers(text): \n",
    "    '''  \n",
    "    This function takes strings containing numbers and returns strings with numbers removed.\n",
    "    Input(string): one tweet, contains numbers\n",
    "    Output(string): one tweet, numbers removed \n",
    "    '''\n",
    "    return re.sub(r'\\d+', '', text) "
   ]
  },
  {
   "cell_type": "code",
   "execution_count": 17,
   "metadata": {},
   "outputs": [
    {
     "data": {
      "text/plain": [
       "'@kenichan i dived many times for the ball. managed to save %  the rest go out of bounds'"
      ]
     },
     "execution_count": 17,
     "metadata": {},
     "output_type": "execute_result"
    }
   ],
   "source": [
    "#let's check the results of our function\n",
    "remove_numbers(text_data['text_lower'][2])"
   ]
  },
  {
   "cell_type": "code",
   "execution_count": 18,
   "metadata": {},
   "outputs": [],
   "source": [
    "text_data['normalized_text'] = text_data['text_lower'].apply(remove_numbers)"
   ]
  },
  {
   "cell_type": "markdown",
   "metadata": {},
   "source": [
    "#### Twitter data specific: Remove mentions or extract mentions into a different column\n",
    "We can remove the mentions in the tweets, but if our task is to monitor VOC, it is helpful to extract the mentions data. "
   ]
  },
  {
   "cell_type": "code",
   "execution_count": 19,
   "metadata": {},
   "outputs": [],
   "source": [
    "def remove_mentions(text):\n",
    "    '''  \n",
    "    This function takes strings containing mentions and returns strings with \n",
    "    mentions (@ and the account name) removed.\n",
    "    Input(string): one tweet, contains mentions\n",
    "    Output(string): one tweet, mentions (@ and the account name mentioned) removed \n",
    "    '''\n",
    "    mentions = re.compile(r'@\\w+ ?')\n",
    "    return mentions.sub(r'', text)"
   ]
  },
  {
   "cell_type": "code",
   "execution_count": 20,
   "metadata": {},
   "outputs": [
    {
     "name": "stdout",
     "output_type": "stream",
     "text": [
      "original text: @switchfoot  - awww, that's a bummer.  you shoulda got david carr of third day to do it. wink or smirk\n",
      "removed mentions:  - awww, that's a bummer.  you shoulda got david carr of third day to do it. wink or smirk\n"
     ]
    }
   ],
   "source": [
    "print('original text: ' + text_data['text_lower'][0])\n",
    "print('removed mentions: ' + remove_mentions(text_data['text_lower'][0]))"
   ]
  },
  {
   "cell_type": "code",
   "execution_count": 21,
   "metadata": {},
   "outputs": [],
   "source": [
    "def extract_mentions(text):\n",
    "    '''\n",
    "    This function takes strings containing mentions and returns strings with \n",
    "    mentions (@ and the account name) extracted into a different element,\n",
    "    and removes the mentions in the original sentence.\n",
    "    Input(string): one sentence, contains mentions\n",
    "    Output:\n",
    "    one tweet (string): mentions (@ and the account name mentioned) removed \n",
    "    mentions (string): (only the account name mentioned) extracted\n",
    "    '''\n",
    "    mentions = [i[1:] for i in text.split() if i.startswith(\"@\")]\n",
    "    sentence = re.compile(r'@\\w+ ?').sub(r'', text)\n",
    "    return sentence,mentions"
   ]
  },
  {
   "cell_type": "code",
   "execution_count": 22,
   "metadata": {},
   "outputs": [],
   "source": [
    "text_data['normalized_text'], text_data['mentions'] = zip(*text_data['normalized_text'].apply(extract_mentions))"
   ]
  },
  {
   "cell_type": "code",
   "execution_count": 23,
   "metadata": {},
   "outputs": [
    {
     "data": {
      "text/html": [
       "<div>\n",
       "<style scoped>\n",
       "    .dataframe tbody tr th:only-of-type {\n",
       "        vertical-align: middle;\n",
       "    }\n",
       "\n",
       "    .dataframe tbody tr th {\n",
       "        vertical-align: top;\n",
       "    }\n",
       "\n",
       "    .dataframe thead th {\n",
       "        text-align: right;\n",
       "    }\n",
       "</style>\n",
       "<table border=\"1\" class=\"dataframe\">\n",
       "  <thead>\n",
       "    <tr style=\"text-align: right;\">\n",
       "      <th></th>\n",
       "      <th>text</th>\n",
       "      <th>normalized_text</th>\n",
       "      <th>mentions</th>\n",
       "    </tr>\n",
       "  </thead>\n",
       "  <tbody>\n",
       "    <tr>\n",
       "      <th>0</th>\n",
       "      <td>@switchfoot http://twitpic.com/2y1zl - Awww, that's a bummer.  You shoulda got David Carr of Third Day to do it. ;D</td>\n",
       "      <td>- awww, that's a bummer.  you shoulda got david carr of third day to do it. wink or smirk</td>\n",
       "      <td>[switchfoot]</td>\n",
       "    </tr>\n",
       "  </tbody>\n",
       "</table>\n",
       "</div>"
      ],
      "text/plain": [
       "                                                                                                                  text  \\\n",
       "0  @switchfoot http://twitpic.com/2y1zl - Awww, that's a bummer.  You shoulda got David Carr of Third Day to do it. ;D   \n",
       "\n",
       "                                                                              normalized_text  \\\n",
       "0   - awww, that's a bummer.  you shoulda got david carr of third day to do it. wink or smirk   \n",
       "\n",
       "       mentions  \n",
       "0  [switchfoot]  "
      ]
     },
     "execution_count": 23,
     "metadata": {},
     "output_type": "execute_result"
    }
   ],
   "source": [
    "text_data[['text','normalized_text', 'mentions']].head(1)"
   ]
  },
  {
   "cell_type": "markdown",
   "metadata": {},
   "source": [
    "#### Remove Punctuation\n",
    "We will use the `string.punctuation` in python to remove punctuations, which contains the following punctuation symbols`!\"#$%&\\'()*+,-./:;<=>?@[\\\\]^_{|}~`\n",
    ", you can add or remove more as needed."
   ]
  },
  {
   "cell_type": "code",
   "execution_count": 24,
   "metadata": {},
   "outputs": [],
   "source": [
    "punc_list = string.punctuation #you can self define list of punctuation to remove here\n",
    "def remove_punctuation(text): \n",
    "    \"\"\"\n",
    "    This function takes strings containing self defined punctuations and returns\n",
    "    strings with punctuations removed.\n",
    "    Input(string): one tweet, contains punctuations in the self-defined list\n",
    "    Output(string): one tweet, self-defined punctuations removed \n",
    "    \"\"\"\n",
    "    translator = str.maketrans('', '', punc_list) \n",
    "    return text.translate(translator) "
   ]
  },
  {
   "cell_type": "code",
   "execution_count": 25,
   "metadata": {},
   "outputs": [
    {
     "data": {
      "text/plain": [
       "'i dived many times for the ball managed to save   the rest go out of bounds'"
      ]
     },
     "execution_count": 25,
     "metadata": {},
     "output_type": "execute_result"
    }
   ],
   "source": [
    "remove_punctuation(text_data['normalized_text'][2])"
   ]
  },
  {
   "cell_type": "code",
   "execution_count": 26,
   "metadata": {},
   "outputs": [],
   "source": [
    "text_data['normalized_text'] = text_data['normalized_text'].apply(remove_punctuation)"
   ]
  },
  {
   "cell_type": "markdown",
   "metadata": {},
   "source": [
    "#### Remove Whitespaces\n",
    "You can also use `trim` functions to trim whitespaces from left and right or in the middle. Here we will just simply utilize the `split` function to extract all words from our text since we already removed all special characters, and combine them with a single whitespace."
   ]
  },
  {
   "cell_type": "code",
   "execution_count": 27,
   "metadata": {},
   "outputs": [],
   "source": [
    "def remove_whitespace(text): \n",
    "    '''\n",
    "    This function takes strings containing mentions and returns strings with \n",
    "    whitespaces removed.\n",
    "    Input(string): one tweet, contains whitespaces\n",
    "    Output(string): one tweet, white spaces removed \n",
    "    '''\n",
    "    return  \" \".join(text.split())"
   ]
  },
  {
   "cell_type": "code",
   "execution_count": 28,
   "metadata": {},
   "outputs": [
    {
     "name": "stdout",
     "output_type": "stream",
     "text": [
      "original text: i dived many times for the ball managed to save   the rest go out of bounds\n",
      "removed whitespaces: i dived many times for the ball managed to save the rest go out of bounds\n"
     ]
    }
   ],
   "source": [
    "print('original text: ' + text_data['normalized_text'][2])\n",
    "print('removed whitespaces: ' + remove_whitespace(text_data['normalized_text'][2]))"
   ]
  },
  {
   "cell_type": "code",
   "execution_count": 29,
   "metadata": {},
   "outputs": [],
   "source": [
    "text_data['normalized_text'] = text_data['normalized_text'].apply(remove_whitespace)"
   ]
  },
  {
   "cell_type": "markdown",
   "metadata": {},
   "source": [
    "## Step 3: Tokenization and Segmentation\n",
    "\n",
    "After we extracted useful text data from the full dataset, we will split large chunks of text (documents) into sentences, and sentences into words. Most of the times we will use sentence-ending punctuation to split documents into sentences, but it can be ambiguous especially when we are dealing with character conversations (\"Are you alright?\" said Ron), abbreviations (Dr. Fay would like to see Mr. Smith now.) and other special use cases. There are Python libraries designed for this task (check [textsplit](https://github.com/chschock/textsplit)), but you can take your own approach depending on your context. \n",
    "\n",
    "Here for Twitter data, we are only dealing with sentences shorter than 140 characters, so we will just tokenize sentences into words. We do want to normalize the sentence before tokenizing sentences into words, so we will introduce normalization, and tokenize our tweets into words after normalizing sentences."
   ]
  },
  {
   "cell_type": "markdown",
   "metadata": {},
   "source": [
    "### Tokenizing Sentences into Words"
   ]
  },
  {
   "cell_type": "code",
   "execution_count": 30,
   "metadata": {},
   "outputs": [
    {
     "name": "stderr",
     "output_type": "stream",
     "text": [
      "[nltk_data] Downloading package punkt to /home/ec2-user/nltk_data...\n",
      "[nltk_data]   Unzipping tokenizers/punkt.zip.\n"
     ]
    },
    {
     "data": {
      "text/plain": [
       "True"
      ]
     },
     "execution_count": 30,
     "metadata": {},
     "output_type": "execute_result"
    }
   ],
   "source": [
    "nltk.download('punkt')"
   ]
  },
  {
   "cell_type": "code",
   "execution_count": 31,
   "metadata": {},
   "outputs": [],
   "source": [
    "from nltk.tokenize import word_tokenize \n",
    "def tokenize_sent(text): \n",
    "    ''' \n",
    "    This function takes strings (a tweet) and returns tokenized words.\n",
    "    Input(string): one tweet\n",
    "    Output(list): list of words tokenized from the tweet\n",
    "    '''\n",
    "    word_tokens = word_tokenize(text)  \n",
    "    return word_tokens "
   ]
  },
  {
   "cell_type": "code",
   "execution_count": 32,
   "metadata": {},
   "outputs": [],
   "source": [
    "text_data['tokenized_text'] = text_data['normalized_text'].apply(tokenize_sent)"
   ]
  },
  {
   "cell_type": "code",
   "execution_count": 33,
   "metadata": {},
   "outputs": [
    {
     "data": {
      "text/html": [
       "<div>\n",
       "<style scoped>\n",
       "    .dataframe tbody tr th:only-of-type {\n",
       "        vertical-align: middle;\n",
       "    }\n",
       "\n",
       "    .dataframe tbody tr th {\n",
       "        vertical-align: top;\n",
       "    }\n",
       "\n",
       "    .dataframe thead th {\n",
       "        text-align: right;\n",
       "    }\n",
       "</style>\n",
       "<table border=\"1\" class=\"dataframe\">\n",
       "  <thead>\n",
       "    <tr style=\"text-align: right;\">\n",
       "      <th></th>\n",
       "      <th>normalized_text</th>\n",
       "      <th>tokenized_text</th>\n",
       "    </tr>\n",
       "  </thead>\n",
       "  <tbody>\n",
       "    <tr>\n",
       "      <th>0</th>\n",
       "      <td>awww thats a bummer you shoulda got david carr of third day to do it wink or smirk</td>\n",
       "      <td>[awww, thats, a, bummer, you, shoulda, got, david, carr, of, third, day, to, do, it, wink, or, smirk]</td>\n",
       "    </tr>\n",
       "  </tbody>\n",
       "</table>\n",
       "</div>"
      ],
      "text/plain": [
       "                                                                      normalized_text  \\\n",
       "0  awww thats a bummer you shoulda got david carr of third day to do it wink or smirk   \n",
       "\n",
       "                                                                                          tokenized_text  \n",
       "0  [awww, thats, a, bummer, you, shoulda, got, david, carr, of, third, day, to, do, it, wink, or, smirk]  "
      ]
     },
     "execution_count": 33,
     "metadata": {},
     "output_type": "execute_result"
    }
   ],
   "source": [
    "text_data[['normalized_text','tokenized_text']][:1]"
   ]
  },
  {
   "cell_type": "markdown",
   "metadata": {},
   "source": [
    "### Continuing Word-level Normalization\n",
    "#### Remove Stop Words\n",
    "Stop words are common words that does not contribute to the meaning of a sentence, such as 'the', 'a', 'his'. Most of the time we can remove these words without harming further analysis, but if you want to apply Part-of-Speech (POS) tagging later, be careful with what you removed in this step as they can provide valuable information. You can also add stop words to the list based on your use cases. "
   ]
  },
  {
   "cell_type": "code",
   "execution_count": 34,
   "metadata": {},
   "outputs": [
    {
     "name": "stderr",
     "output_type": "stream",
     "text": [
      "[nltk_data] Downloading package stopwords to\n",
      "[nltk_data]     /home/ec2-user/nltk_data...\n",
      "[nltk_data]   Unzipping corpora/stopwords.zip.\n"
     ]
    }
   ],
   "source": [
    "nltk.download('stopwords')\n",
    "from nltk.corpus import stopwords"
   ]
  },
  {
   "cell_type": "code",
   "execution_count": 35,
   "metadata": {},
   "outputs": [],
   "source": [
    "stopwords_list = set(stopwords.words('english'))"
   ]
  },
  {
   "cell_type": "markdown",
   "metadata": {},
   "source": [
    "One way to add words to your stopwords list is to check for most frequent words, especially if you are working with a domain-specific corpus and those words sometimes are not covered by general English stop words. You can also remove rare words from your text data. \n",
    "\n",
    "Let's check for the most common words in our data. All the words we see in the following example are covered in general English stop words, so we will not add any additional stop words."
   ]
  },
  {
   "cell_type": "code",
   "execution_count": 36,
   "metadata": {},
   "outputs": [
    {
     "data": {
      "text/plain": [
       "[('i', 5317),\n",
       " ('to', 4047),\n",
       " ('the', 3264),\n",
       " ('a', 2379),\n",
       " ('my', 2271),\n",
       " ('and', 1955),\n",
       " ('is', 1819),\n",
       " ('in', 1549),\n",
       " ('it', 1495),\n",
       " ('for', 1343)]"
      ]
     },
     "execution_count": 36,
     "metadata": {},
     "output_type": "execute_result"
    }
   ],
   "source": [
    "from collections import Counter\n",
    "counter = Counter()\n",
    "for word in  [w for sent in text_data[\"tokenized_text\"] for w in sent]:\n",
    "    counter[word] += 1        \n",
    "counter.most_common(10)"
   ]
  },
  {
   "cell_type": "markdown",
   "metadata": {},
   "source": [
    "Let's check for the rarest words now. In this example, infrequently used words mostly consist of misspelled words, which we will later correct, but we can add them to our stop words list as well."
   ]
  },
  {
   "cell_type": "code",
   "execution_count": 37,
   "metadata": {},
   "outputs": [
    {
     "data": {
      "text/plain": [
       "[('rainboot', 1),\n",
       " ('colleague', 1),\n",
       " ('jaws', 1),\n",
       " ('windsor', 1),\n",
       " ('castiel', 1),\n",
       " ('georgous', 1),\n",
       " ('thingsss', 1),\n",
       " ('howwww', 1),\n",
       " ('christopher', 1)]"
      ]
     },
     "execution_count": 37,
     "metadata": {},
     "output_type": "execute_result"
    }
   ],
   "source": [
    "#least frequent words\n",
    "counter.most_common()[:-10:-1]"
   ]
  },
  {
   "cell_type": "code",
   "execution_count": 38,
   "metadata": {},
   "outputs": [],
   "source": [
    "top_n = 10\n",
    "bottom_n = 10\n",
    "stopwords_list |= set([word for (word, count) in counter.most_common(top_n)])\n",
    "stopwords_list |= set([word for (word, count) in counter.most_common()[:-bottom_n:-1]])\n",
    "stopwords_list |= {'thats'}\n",
    "def remove_stopwords(tokenized_text): \n",
    "    '''\n",
    "    This function takes a list of tokenized words from a tweet, removes self-defined stop words from the list,\n",
    "    and returns the list of words with stop words removed\n",
    "    Input(list): a list of tokenized words from a tweet, contains stop words\n",
    "    Output(list): a list of words with stop words removed \n",
    "    '''\n",
    "    filtered_text = [word for word in tokenized_text if word not in stopwords_list] \n",
    "    return filtered_text "
   ]
  },
  {
   "cell_type": "code",
   "execution_count": 39,
   "metadata": {},
   "outputs": [
    {
     "name": "stdout",
     "output_type": "stream",
     "text": [
      "['i', 'dived', 'many', 'times', 'for', 'the', 'ball', 'managed', 'to', 'save', 'the', 'rest', 'go', 'out', 'of', 'bounds']\n",
      "['dived', 'many', 'times', 'ball', 'managed', 'save', 'rest', 'go', 'bounds']\n"
     ]
    }
   ],
   "source": [
    "print(text_data['tokenized_text'][2])\n",
    "print(remove_stopwords(text_data['tokenized_text'][2]))"
   ]
  },
  {
   "cell_type": "code",
   "execution_count": 40,
   "metadata": {},
   "outputs": [],
   "source": [
    "text_data['tokenized_text'] = text_data['tokenized_text'].apply(remove_stopwords)"
   ]
  },
  {
   "cell_type": "markdown",
   "metadata": {},
   "source": [
    "#### Convert Abbreviations, slangs and chat words into words\n",
    "Sometimes you will need to develop your own mapping for abbreviations/slangs <-> words, for chat data, or for domain-specific data where abbreviations often have different meanings from what is commonly used."
   ]
  },
  {
   "cell_type": "code",
   "execution_count": 41,
   "metadata": {},
   "outputs": [],
   "source": [
    "chat_words_map = {\n",
    "    'idk': 'i do not know',\n",
    "    'btw': 'by the way',\n",
    "    'imo': 'in my opinion',\n",
    "    'u': 'you',\n",
    "    'oic': 'oh i see'\n",
    "}\n",
    "chat_words_list = set(chat_words_map)"
   ]
  },
  {
   "cell_type": "code",
   "execution_count": 42,
   "metadata": {},
   "outputs": [],
   "source": [
    "def translator(text):\n",
    "    \"\"\"\n",
    "    This function takes a list of tokenized words, finds the chat words in the self-defined chat words list,\n",
    "    and replace the chat words with the mapped full expressions. It returns the list of tokenized words with \n",
    "    chat words replaced.\n",
    "    Input(list): a list of tokenized words from a tweet, contains chat words\n",
    "    Output(list): a list of words with chat words replaced by full expressions\n",
    "    \"\"\"\n",
    "    new_text = []\n",
    "    for w in text:\n",
    "        if w in set(chat_words_map):\n",
    "            new_text = new_text + chat_words_map[w].split()\n",
    "        else:\n",
    "            new_text.append(w)\n",
    "    return new_text"
   ]
  },
  {
   "cell_type": "code",
   "execution_count": 43,
   "metadata": {},
   "outputs": [
    {
     "name": "stdout",
     "output_type": "stream",
     "text": [
      "['counts', 'idk', 'either', 'never', 'talk', 'anymore']\n",
      "['counts', 'i', 'do', 'not', 'know', 'either', 'never', 'talk', 'anymore']\n"
     ]
    }
   ],
   "source": [
    "print(text_data['tokenized_text'][13])\n",
    "print(translator(text_data['tokenized_text'][13]))"
   ]
  },
  {
   "cell_type": "code",
   "execution_count": 44,
   "metadata": {},
   "outputs": [],
   "source": [
    "text_data['tokenized_text'] = text_data['tokenized_text'].apply(translator)"
   ]
  },
  {
   "cell_type": "markdown",
   "metadata": {},
   "source": [
    "#### Spelling Correction\n",
    "Some common spelling correction packages include `SpellChecker` and `autocorrect`. It might take some time to spell check every sentence of the text, so you can decide if a spell check is absolutely necessary. If you are dealing with documents (news, papers, articles) generally it is not necessary; but if you are dealing with chat data, reviews, notes, it might be a good idea to spell check your text."
   ]
  },
  {
   "cell_type": "code",
   "execution_count": 45,
   "metadata": {},
   "outputs": [
    {
     "name": "stdout",
     "output_type": "stream",
     "text": [
      "\u001b[33mWARNING: You are using pip version 20.0.2; however, version 20.2.3 is available.\n",
      "You should consider upgrading via the '/home/ec2-user/anaconda3/envs/python3/bin/python -m pip install --upgrade pip' command.\u001b[0m\n"
     ]
    }
   ],
   "source": [
    "!pip install -U -q autocorrect"
   ]
  },
  {
   "cell_type": "code",
   "execution_count": 46,
   "metadata": {},
   "outputs": [],
   "source": [
    "from autocorrect import Speller"
   ]
  },
  {
   "cell_type": "code",
   "execution_count": 47,
   "metadata": {},
   "outputs": [],
   "source": [
    "spell = Speller(lang='en', fast = True)\n",
    "def spelling_correct(tokenized_text):\n",
    "    \"\"\"\n",
    "    This function takes a list of tokenized words from a tweet, spell check every words and returns the \n",
    "    corrected words if applicable. Note that not every wrong spelling words will be identified especially \n",
    "    for tweets.\n",
    "    Input(list): a list of tokenized words from a tweet, contains wrong-spelling words\n",
    "    Output(list): a list of corrected words \n",
    "    \"\"\"\n",
    "    corrected = [spell(word) for word in tokenized_text] \n",
    "    return corrected"
   ]
  },
  {
   "cell_type": "code",
   "execution_count": 64,
   "metadata": {},
   "outputs": [
    {
     "name": "stdout",
     "output_type": "stream",
     "text": [
      "['awww', 'bummer', 'shoulda', 'got', 'david', 'carr', 'third', 'day', 'wink', 'smirk']\n",
      "['www', 'bummer', 'should', 'got', 'david', 'carr', 'third', 'day', 'wink', 'smirk']\n"
     ]
    }
   ],
   "source": [
    "print(text_data['tokenized_text'][0])\n",
    "print(spelling_correct(text_data['tokenized_text'][0]))"
   ]
  },
  {
   "cell_type": "code",
   "execution_count": 65,
   "metadata": {},
   "outputs": [],
   "source": [
    "text_data['tokenized_text'] = text_data['tokenized_text'].apply(spelling_correct)"
   ]
  },
  {
   "cell_type": "markdown",
   "metadata": {},
   "source": [
    "### Step 3.2  [Stemming and Lemmatization](https://en.wikipedia.org/wiki/Lemmatisation)\n",
    "**Stemming** is the process of removing affixes from a word to get a word stem, and **lemmatization** can in principle select the appropriate lemma depending on the context. The difference is that a stemmer operates on a single word without knowledge of the context, and therefore cannot discriminate between words that have different meanings depending on part of speech. However, stemmers are typically easier to implement and run faster, and the reduced accuracy may not matter for some applications."
   ]
  },
  {
   "cell_type": "markdown",
   "metadata": {},
   "source": [
    "#### Stemming\n",
    "There are several stemming algorithms available, and the most popular ones are Porter, Lancaster, and Snowball. Porter is the most common one, Snowball is an improvement over Porter, and Lancaster is more aggressive. You can check for more algorithms provided by `nltk` [here](https://www.nltk.org/api/nltk.stem.html)."
   ]
  },
  {
   "cell_type": "code",
   "execution_count": 66,
   "metadata": {},
   "outputs": [],
   "source": [
    "from nltk.stem import SnowballStemmer \n",
    "from nltk.tokenize import word_tokenize \n",
    "stemmer = SnowballStemmer(\"english\") \n",
    "\n",
    "def stem_text(tokenized_text): \n",
    "    \"\"\"\n",
    "    This function takes a list of tokenized words from a tweet, and returns the stemmed words by your \n",
    "    defined stemmer.\n",
    "    Input(list): a list of tokenized words from a tweet\n",
    "    Output(list): a list of stemmed words in its root form\n",
    "    \"\"\"\n",
    "    stems = [stemmer.stem(word) for word in tokenized_text] \n",
    "    return stems "
   ]
  },
  {
   "cell_type": "markdown",
   "metadata": {},
   "source": [
    "#### Lemmatization"
   ]
  },
  {
   "cell_type": "code",
   "execution_count": 67,
   "metadata": {},
   "outputs": [
    {
     "name": "stderr",
     "output_type": "stream",
     "text": [
      "[nltk_data] Downloading package wordnet to /home/ec2-user/nltk_data...\n",
      "[nltk_data]   Unzipping corpora/wordnet.zip.\n"
     ]
    },
    {
     "data": {
      "text/plain": [
       "True"
      ]
     },
     "execution_count": 67,
     "metadata": {},
     "output_type": "execute_result"
    }
   ],
   "source": [
    "nltk.download('wordnet')"
   ]
  },
  {
   "cell_type": "code",
   "execution_count": 68,
   "metadata": {},
   "outputs": [],
   "source": [
    "from nltk.stem import WordNetLemmatizer \n",
    "from nltk.tokenize import word_tokenize \n",
    "lemmatizer = WordNetLemmatizer() \n",
    "def lemmatize_text(tokenized_text): \n",
    "    ''' \n",
    "    This function takes a list of tokenized words from a tweet, and returns the lemmatized words.\n",
    "    you can also provide context for lemmatization, i.e. part-of-speech. \n",
    "    Input(list): a list of tokenized words from a tweet\n",
    "    Output(list): a list of lemmatized words in its base form\n",
    "    '''\n",
    "    lemmas = [lemmatizer.lemmatize(word, pos = 'v') for word in tokenized_text] \n",
    "    return lemmas "
   ]
  },
  {
   "cell_type": "markdown",
   "metadata": {},
   "source": [
    "#### Let's compare our stemming and lemmatization results:\n",
    "It seems like both processes returned similar results besides some verb being trimmed differently, so it is okay to go with stemming in this case if you are dealing with a lot of data and want a better performance. You can also keep both and experiment with further feature engineering and modeling to see which one produces better results."
   ]
  },
  {
   "cell_type": "code",
   "execution_count": 69,
   "metadata": {},
   "outputs": [
    {
     "name": "stdout",
     "output_type": "stream",
     "text": [
      "['dived', 'many', 'times', 'ball', 'managed', 'save', 'rest', 'go', 'bounds']\n",
      "['dive', 'mani', 'time', 'ball', 'manag', 'save', 'rest', 'go', 'bound']\n",
      "['dive', 'many', 'time', 'ball', 'manage', 'save', 'rest', 'go', 'bound']\n"
     ]
    }
   ],
   "source": [
    "print(text_data['tokenized_text'][2])\n",
    "print(stem_text(text_data['tokenized_text'][2]))\n",
    "print(lemmatize_text(text_data['tokenized_text'][2]))"
   ]
  },
  {
   "cell_type": "markdown",
   "metadata": {},
   "source": [
    "It seems that a stemmer can do the work for our tweets data. You can keep both and decide which one you want to use for feature engineering and modeling."
   ]
  },
  {
   "cell_type": "code",
   "execution_count": 70,
   "metadata": {},
   "outputs": [],
   "source": [
    "text_data['stem_text'] = text_data['tokenized_text'].apply(stem_text)\n",
    "text_data['lemma_text'] = text_data['tokenized_text'].apply(lemmatize_text)"
   ]
  },
  {
   "cell_type": "markdown",
   "metadata": {},
   "source": [
    "## Step 3.5: Re-examine the results\n",
    "Take a pause here and examine the results from previous steps to decide if more noise removal/normalization is needed. In this case, you might want to add more words to the stop words list, spell-check more aggressively, or add more mappings to the abbreviation/slang to words list."
   ]
  },
  {
   "cell_type": "code",
   "execution_count": 71,
   "metadata": {},
   "outputs": [
    {
     "data": {
      "text/html": [
       "<div>\n",
       "<style scoped>\n",
       "    .dataframe tbody tr th:only-of-type {\n",
       "        vertical-align: middle;\n",
       "    }\n",
       "\n",
       "    .dataframe tbody tr th {\n",
       "        vertical-align: top;\n",
       "    }\n",
       "\n",
       "    .dataframe thead th {\n",
       "        text-align: right;\n",
       "    }\n",
       "</style>\n",
       "<table border=\"1\" class=\"dataframe\">\n",
       "  <thead>\n",
       "    <tr style=\"text-align: right;\">\n",
       "      <th></th>\n",
       "      <th>text</th>\n",
       "      <th>stem_text</th>\n",
       "      <th>lemma_text</th>\n",
       "    </tr>\n",
       "  </thead>\n",
       "  <tbody>\n",
       "    <tr>\n",
       "      <th>6398</th>\n",
       "      <td>@mikeyzito last night, there was no wawa</td>\n",
       "      <td>[last, night, wawa]</td>\n",
       "      <td>[last, night, wawa]</td>\n",
       "    </tr>\n",
       "    <tr>\n",
       "      <th>3780</th>\n",
       "      <td>I totally just lied about going on a trip to get out of hanging out with someone. 'Airport' was the only excuse that came to mind.</td>\n",
       "      <td>[total, lie, go, trip, get, hang, someon, airport, excus, came, mind]</td>\n",
       "      <td>[totally, lie, go, trip, get, hang, someone, airport, excuse, come, mind]</td>\n",
       "    </tr>\n",
       "    <tr>\n",
       "      <th>8359</th>\n",
       "      <td>Didn't plan my gym trip well. If I go, I'll only have an hour.  Can't go after work either cuz I'm off too late and work early tomorrow!</td>\n",
       "      <td>[didnt, plan, gym, trip, well, go, ill, hour, cant, go, work, either, cuz, im, late, work, earli, tomorrow]</td>\n",
       "      <td>[didnt, plan, gym, trip, well, go, ill, hour, cant, go, work, either, cuz, im, late, work, early, tomorrow]</td>\n",
       "    </tr>\n",
       "    <tr>\n",
       "      <th>5421</th>\n",
       "      <td>@mformarie  causing a lot of trouble on this end too!</td>\n",
       "      <td>[caus, lot, troubl, end]</td>\n",
       "      <td>[cause, lot, trouble, end]</td>\n",
       "    </tr>\n",
       "    <tr>\n",
       "      <th>2200</th>\n",
       "      <td>@vindiekins Aww, you're leaving me?  Just was hoping for input -- I have avatars in the RP thread on MTP. Torn on personality...</td>\n",
       "      <td>[www, your, leav, hope, input, avatar, up, thread, map, torn, person]</td>\n",
       "      <td>[www, youre, leave, hop, input, avatars, up, thread, map, tear, personality]</td>\n",
       "    </tr>\n",
       "  </tbody>\n",
       "</table>\n",
       "</div>"
      ],
      "text/plain": [
       "                                                                                                                                          text  \\\n",
       "6398                                                                                                 @mikeyzito last night, there was no wawa    \n",
       "3780       I totally just lied about going on a trip to get out of hanging out with someone. 'Airport' was the only excuse that came to mind.    \n",
       "8359  Didn't plan my gym trip well. If I go, I'll only have an hour.  Can't go after work either cuz I'm off too late and work early tomorrow!   \n",
       "5421                                                                                    @mformarie  causing a lot of trouble on this end too!    \n",
       "2200          @vindiekins Aww, you're leaving me?  Just was hoping for input -- I have avatars in the RP thread on MTP. Torn on personality...   \n",
       "\n",
       "                                                                                                        stem_text  \\\n",
       "6398                                                                                          [last, night, wawa]   \n",
       "3780                                        [total, lie, go, trip, get, hang, someon, airport, excus, came, mind]   \n",
       "8359  [didnt, plan, gym, trip, well, go, ill, hour, cant, go, work, either, cuz, im, late, work, earli, tomorrow]   \n",
       "5421                                                                                     [caus, lot, troubl, end]   \n",
       "2200                                        [www, your, leav, hope, input, avatar, up, thread, map, torn, person]   \n",
       "\n",
       "                                                                                                       lemma_text  \n",
       "6398                                                                                          [last, night, wawa]  \n",
       "3780                                    [totally, lie, go, trip, get, hang, someone, airport, excuse, come, mind]  \n",
       "8359  [didnt, plan, gym, trip, well, go, ill, hour, cant, go, work, either, cuz, im, late, work, early, tomorrow]  \n",
       "5421                                                                                   [cause, lot, trouble, end]  \n",
       "2200                                 [www, youre, leave, hop, input, avatars, up, thread, map, tear, personality]  "
      ]
     },
     "execution_count": 71,
     "metadata": {},
     "output_type": "execute_result"
    }
   ],
   "source": [
    "text_data.sample(5)[['text', 'stem_text', 'lemma_text']]"
   ]
  },
  {
   "cell_type": "markdown",
   "metadata": {},
   "source": [
    "## Step 4: Enrichment and Augmentation\n",
    "After you have cleaned and tokenized your text data into a standard form, you might want to enrich it with more useful information that was not provided directly in the original text or its single-word form. For example: \n",
    "* Part-of-speech tagging\n",
    "* Extracting phrases\n",
    "* Name entity recognition\n",
    "* Dependency parsing\n",
    "* Word level embeddings\n",
    "\n",
    "Many Python Packages including `nltk`, `SpaCy`, `CoreNLP`, and here we will use `TextBlob` to illustrate some enrichment methods. \n",
    "\n",
    "#### Part-of-Speech (POS) Tagging\n",
    "Part-of-Speech tagging can assign each word in accordance with its syntactic functions (noun, verb, adjectives, etc.).  "
   ]
  },
  {
   "cell_type": "code",
   "execution_count": 66,
   "metadata": {},
   "outputs": [
    {
     "name": "stderr",
     "output_type": "stream",
     "text": [
      "[nltk_data] Downloading package averaged_perceptron_tagger to\n",
      "[nltk_data]     /home/ec2-user/nltk_data...\n",
      "[nltk_data]   Unzipping taggers/averaged_perceptron_tagger.zip.\n"
     ]
    },
    {
     "data": {
      "text/plain": [
       "True"
      ]
     },
     "execution_count": 66,
     "metadata": {},
     "output_type": "execute_result"
    }
   ],
   "source": [
    "nltk.download('averaged_perceptron_tagger')"
   ]
  },
  {
   "cell_type": "code",
   "execution_count": 76,
   "metadata": {},
   "outputs": [
    {
     "data": {
      "text/plain": [
       "2426    [turn, earthquake, warn, italy, ignoretongue, stick, cheeky, playful, blow, raspberry]\n",
       "Name: lemma_text, dtype: object"
      ]
     },
     "execution_count": 76,
     "metadata": {},
     "output_type": "execute_result"
    }
   ],
   "source": [
    "text_example = text_data.sample()['lemma_text']\n",
    "text_example"
   ]
  },
  {
   "cell_type": "code",
   "execution_count": 77,
   "metadata": {},
   "outputs": [
    {
     "name": "stdout",
     "output_type": "stream",
     "text": [
      "[('turn', 'VB'), ('earthquake', 'NN'), ('warn', 'NNS'), ('italy', 'VBP'), ('ignoretongue', 'JJ'), ('stick', 'NN'), ('cheeky', 'NN'), ('playful', 'JJ'), ('blow', 'NN'), ('raspberry', 'NN')]\n"
     ]
    }
   ],
   "source": [
    "from textblob import TextBlob\n",
    "result = TextBlob(\" \".join(text_example.values[0]))\n",
    "print(result.tags)"
   ]
  },
  {
   "cell_type": "markdown",
   "metadata": {},
   "source": [
    "#### Extracting Phrases\n",
    "Sometimes words come in as phrases (noun group phrases, verb group phrases, etc.) and often have discrete grammatical meanings. Extract those words as phrases rather than separate words in this case."
   ]
  },
  {
   "cell_type": "code",
   "execution_count": 69,
   "metadata": {},
   "outputs": [
    {
     "name": "stderr",
     "output_type": "stream",
     "text": [
      "[nltk_data] Downloading package brown to /home/ec2-user/nltk_data...\n",
      "[nltk_data]   Unzipping corpora/brown.zip.\n"
     ]
    },
    {
     "data": {
      "text/plain": [
       "True"
      ]
     },
     "execution_count": 69,
     "metadata": {},
     "output_type": "execute_result"
    }
   ],
   "source": [
    "nltk.download('brown')"
   ]
  },
  {
   "cell_type": "code",
   "execution_count": 93,
   "metadata": {},
   "outputs": [
    {
     "data": {
      "text/plain": [
       "'havent create support ticket back nobut zeme domain every couple days'"
      ]
     },
     "execution_count": 93,
     "metadata": {},
     "output_type": "execute_result"
    }
   ],
   "source": [
    "# orginal text:\n",
    "text_example = text_data.sample()['lemma_text']\n",
    "\" \".join(text_example.values[0])"
   ]
  },
  {
   "cell_type": "code",
   "execution_count": 94,
   "metadata": {},
   "outputs": [
    {
     "name": "stdout",
     "output_type": "stream",
     "text": [
      "support ticket\n",
      "nobut zeme domain\n",
      "couple days\n"
     ]
    }
   ],
   "source": [
    "#noun phrases that can be extracted from this sentence\n",
    "result = TextBlob(\" \".join(text_example.values[0]))\n",
    "for nouns in result.noun_phrases:\n",
    "    print(nouns)"
   ]
  },
  {
   "cell_type": "markdown",
   "metadata": {},
   "source": [
    "#### Name Entity Recognition (NER)\n",
    "You can use pre-trained/pre-defined name entity recognition models to find named entities in text and classify them into pre-defined categories. You can also train your own NER model, especially if you are dealing with domain specific context."
   ]
  },
  {
   "cell_type": "code",
   "execution_count": 95,
   "metadata": {},
   "outputs": [
    {
     "name": "stderr",
     "output_type": "stream",
     "text": [
      "[nltk_data] Downloading package maxent_ne_chunker to\n",
      "[nltk_data]     /home/ec2-user/nltk_data...\n",
      "[nltk_data]   Unzipping chunkers/maxent_ne_chunker.zip.\n",
      "[nltk_data] Downloading package words to /home/ec2-user/nltk_data...\n",
      "[nltk_data]   Unzipping corpora/words.zip.\n"
     ]
    },
    {
     "data": {
      "text/plain": [
       "True"
      ]
     },
     "execution_count": 95,
     "metadata": {},
     "output_type": "execute_result"
    }
   ],
   "source": [
    "nltk.download('maxent_ne_chunker')\n",
    "nltk.download('words')"
   ]
  },
  {
   "cell_type": "code",
   "execution_count": 98,
   "metadata": {},
   "outputs": [
    {
     "name": "stdout",
     "output_type": "stream",
     "text": [
      "original text: go delicious pizza dentist\n"
     ]
    }
   ],
   "source": [
    "text_example_enr = text_data.sample()['lemma_text'].values[0]\n",
    "print(\"original text: \" + \" \".join(text_example_enr))"
   ]
  },
  {
   "cell_type": "code",
   "execution_count": 99,
   "metadata": {},
   "outputs": [
    {
     "name": "stdout",
     "output_type": "stream",
     "text": [
      "(S go/VB delicious/JJ pizza/NNS dentist/NN)\n"
     ]
    }
   ],
   "source": [
    "from nltk import pos_tag, ne_chunk\n",
    "print (ne_chunk(pos_tag(text_example_enr)))"
   ]
  },
  {
   "cell_type": "markdown",
   "metadata": {},
   "source": [
    "## Final Dataset ready for feature engineering and modeling\n",
    "For this notebook you cleaned and normalized the data, kept mentions as a separate column, and stemmed and lemmatized the tokenized words. You can experiment with these two results to see which one gives you a better model performance.  \n",
    "\n",
    "Twitter data is short and often does not have complex syntax structures, so no enrichment (POS tagging, parsing, etc.) was done at this time; but you can experiment with those when you have more complicated text data."
   ]
  },
  {
   "cell_type": "code",
   "execution_count": 72,
   "metadata": {},
   "outputs": [
    {
     "data": {
      "text/html": [
       "<div>\n",
       "<style scoped>\n",
       "    .dataframe tbody tr th:only-of-type {\n",
       "        vertical-align: middle;\n",
       "    }\n",
       "\n",
       "    .dataframe tbody tr th {\n",
       "        vertical-align: top;\n",
       "    }\n",
       "\n",
       "    .dataframe thead th {\n",
       "        text-align: right;\n",
       "    }\n",
       "</style>\n",
       "<table border=\"1\" class=\"dataframe\">\n",
       "  <thead>\n",
       "    <tr style=\"text-align: right;\">\n",
       "      <th></th>\n",
       "      <th>target</th>\n",
       "      <th>tw_id</th>\n",
       "      <th>date</th>\n",
       "      <th>flag</th>\n",
       "      <th>user</th>\n",
       "      <th>text</th>\n",
       "      <th>cleaned_text</th>\n",
       "      <th>text_lower</th>\n",
       "      <th>normalized_text</th>\n",
       "      <th>mentions</th>\n",
       "      <th>tokenized_text</th>\n",
       "      <th>stem_text</th>\n",
       "      <th>lemma_text</th>\n",
       "    </tr>\n",
       "  </thead>\n",
       "  <tbody>\n",
       "    <tr>\n",
       "      <th>0</th>\n",
       "      <td>0</td>\n",
       "      <td>1467810369</td>\n",
       "      <td>Mon Apr 06 22:19:45 PDT 2009</td>\n",
       "      <td>NO_QUERY</td>\n",
       "      <td>_TheSpecialOne_</td>\n",
       "      <td>@switchfoot http://twitpic.com/2y1zl - Awww, that's a bummer.  You shoulda got David Carr of Third Day to do it. ;D</td>\n",
       "      <td>@switchfoot  - Awww, that's a bummer.  You shoulda got David Carr of Third Day to do it. Wink or smirk</td>\n",
       "      <td>@switchfoot  - awww, that's a bummer.  you shoulda got david carr of third day to do it. wink or smirk</td>\n",
       "      <td>awww thats a bummer you shoulda got david carr of third day to do it wink or smirk</td>\n",
       "      <td>[switchfoot]</td>\n",
       "      <td>[www, bummer, should, got, david, carr, third, day, wink, smirk]</td>\n",
       "      <td>[www, bummer, should, got, david, carr, third, day, wink, smirk]</td>\n",
       "      <td>[www, bummer, should, get, david, carr, third, day, wink, smirk]</td>\n",
       "    </tr>\n",
       "    <tr>\n",
       "      <th>1</th>\n",
       "      <td>0</td>\n",
       "      <td>1467810672</td>\n",
       "      <td>Mon Apr 06 22:19:49 PDT 2009</td>\n",
       "      <td>NO_QUERY</td>\n",
       "      <td>scotthamilton</td>\n",
       "      <td>is upset that he can't update his Facebook by texting it... and might cry as a result  School today also. Blah!</td>\n",
       "      <td>is upset that he can't update his Facebook by texting it... and might cry as a result  School today also. Blah!</td>\n",
       "      <td>is upset that he can't update his facebook by texting it... and might cry as a result  school today also. blah!</td>\n",
       "      <td>is upset that he cant update his facebook by texting it and might cry as a result school today also blah</td>\n",
       "      <td>[]</td>\n",
       "      <td>[upset, cant, update, facebook, testing, might, cry, result, school, today, also, blah]</td>\n",
       "      <td>[upset, cant, updat, facebook, test, might, cri, result, school, today, also, blah]</td>\n",
       "      <td>[upset, cant, update, facebook, test, might, cry, result, school, today, also, blah]</td>\n",
       "    </tr>\n",
       "  </tbody>\n",
       "</table>\n",
       "</div>"
      ],
      "text/plain": [
       "   target       tw_id                          date      flag  \\\n",
       "0       0  1467810369  Mon Apr 06 22:19:45 PDT 2009  NO_QUERY   \n",
       "1       0  1467810672  Mon Apr 06 22:19:49 PDT 2009  NO_QUERY   \n",
       "\n",
       "              user  \\\n",
       "0  _TheSpecialOne_   \n",
       "1    scotthamilton   \n",
       "\n",
       "                                                                                                                  text  \\\n",
       "0  @switchfoot http://twitpic.com/2y1zl - Awww, that's a bummer.  You shoulda got David Carr of Third Day to do it. ;D   \n",
       "1      is upset that he can't update his Facebook by texting it... and might cry as a result  School today also. Blah!   \n",
       "\n",
       "                                                                                                      cleaned_text  \\\n",
       "0           @switchfoot  - Awww, that's a bummer.  You shoulda got David Carr of Third Day to do it. Wink or smirk   \n",
       "1  is upset that he can't update his Facebook by texting it... and might cry as a result  School today also. Blah!   \n",
       "\n",
       "                                                                                                        text_lower  \\\n",
       "0           @switchfoot  - awww, that's a bummer.  you shoulda got david carr of third day to do it. wink or smirk   \n",
       "1  is upset that he can't update his facebook by texting it... and might cry as a result  school today also. blah!   \n",
       "\n",
       "                                                                                            normalized_text  \\\n",
       "0                        awww thats a bummer you shoulda got david carr of third day to do it wink or smirk   \n",
       "1  is upset that he cant update his facebook by texting it and might cry as a result school today also blah   \n",
       "\n",
       "       mentions  \\\n",
       "0  [switchfoot]   \n",
       "1            []   \n",
       "\n",
       "                                                                            tokenized_text  \\\n",
       "0                         [www, bummer, should, got, david, carr, third, day, wink, smirk]   \n",
       "1  [upset, cant, update, facebook, testing, might, cry, result, school, today, also, blah]   \n",
       "\n",
       "                                                                             stem_text  \\\n",
       "0                     [www, bummer, should, got, david, carr, third, day, wink, smirk]   \n",
       "1  [upset, cant, updat, facebook, test, might, cri, result, school, today, also, blah]   \n",
       "\n",
       "                                                                             lemma_text  \n",
       "0                      [www, bummer, should, get, david, carr, third, day, wink, smirk]  \n",
       "1  [upset, cant, update, facebook, test, might, cry, result, school, today, also, blah]  "
      ]
     },
     "execution_count": 72,
     "metadata": {},
     "output_type": "execute_result"
    }
   ],
   "source": [
    "text_data.head(2)"
   ]
  },
  {
   "cell_type": "markdown",
   "metadata": {},
   "source": [
    "### Save our final dataset to S3 for further process"
   ]
  },
  {
   "cell_type": "code",
   "execution_count": 74,
   "metadata": {},
   "outputs": [],
   "source": [
    "#helper functions\n",
    "def write_to_s3(filename, bucket, prefix):\n",
    "    key = \"{}/{}\".format(prefix,filename)\n",
    "    return boto3.Session().resource('s3').Bucket(bucket).upload_file(filename,key)\n",
    "\n",
    "def upload_to_s3(bucket, prefix, filename):\n",
    "    url = 's3://{}/{}/{}'.format(bucket, prefix, filename)\n",
    "    print('Writing to {}'.format(url))\n",
    "    write_to_s3(filename, bucket, prefix)"
   ]
  },
  {
   "cell_type": "code",
   "execution_count": 76,
   "metadata": {},
   "outputs": [
    {
     "name": "stdout",
     "output_type": "stream",
     "text": [
      "Writing to s3://sagemaker-us-east-2-060356833389/text_sentiment140_processed/processed_sentiment_140.csv\n"
     ]
    }
   ],
   "source": [
    "filename_write_to = 'processed_sentiment_140.csv'\n",
    "text_data.to_csv(filename_write_to, index = False)\n",
    "upload_to_s3(bucket, 'text_sentiment140_processed', filename_write_to)"
   ]
  },
  {
   "cell_type": "markdown",
   "metadata": {},
   "source": [
    "# Conclusion\n",
    "\n",
    "Congratulations! You cleaned and prepared your text data and it is now ready to be vectorized or used for feature engineering. \n",
    "Now that your data is ready to be converted into machine-readable format (numbers), we will cover extracting features and word embeddings in the next section **text data feature engineering**."
   ]
  }
 ],
 "metadata": {
  "kernelspec": {
   "display_name": "conda_python3",
   "language": "python",
   "name": "conda_python3"
  },
  "language_info": {
   "codemirror_mode": {
    "name": "ipython",
    "version": 3
   },
   "file_extension": ".py",
   "mimetype": "text/x-python",
   "name": "python",
   "nbconvert_exporter": "python",
   "pygments_lexer": "ipython3",
   "version": "3.6.10"
  }
 },
 "nbformat": 4,
 "nbformat_minor": 4
}
